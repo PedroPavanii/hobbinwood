{
  "nbformat": 4,
  "nbformat_minor": 0,
  "metadata": {
    "colab": {
      "provenance": []
    },
    "kernelspec": {
      "name": "python3",
      "display_name": "Python 3"
    },
    "language_info": {
      "name": "python"
    }
  },
  "cells": [
    {
      "cell_type": "code",
      "execution_count": 8,
      "metadata": {
        "colab": {
          "base_uri": "https://localhost:8080/"
        },
        "id": "XwIv_Ketcwre",
        "outputId": "ab527aab-0e54-420e-e4ab-a84977309577"
      },
      "outputs": [
        {
          "output_type": "stream",
          "name": "stdout",
          "text": [
            "In the Q1 they fell:  11 arrows!\n",
            "In the Q2 they fell:  6 arrows!\n",
            "In the Q3 they fell:  2 arrows!\n",
            "In the Q4 they fell:  2 arrows!\n"
          ]
        }
      ],
      "source": [
        "#1. Robin Hood is famous for hitting an arrow with another arrow. Did you get it?\n",
        "#2. Calculate how many arrows have fallen in each quadrant.\n",
        "#3. Find the point closest to the center. Calculate its distance to the center.\n",
        "#4. If the target has a radius of 9, calculate the number of arrows that must be picked up in the forest.(biblioteca ou elevar por 1/2)\n",
        "\n",
        "#ANSWERS\n",
        "\n",
        "#1. I GET IT!\n",
        "\n",
        "#2.\n",
        "# Q1 = (+, +)\n",
        "# Q2 = (-, +)\n",
        "# Q3 = (-, -)\n",
        "# Q4 = (+, -)\n",
        "\n",
        "arrows_Q1 = []\n",
        "arrows_Q2 = []\n",
        "arrows_Q3 = []\n",
        "arrows_Q4 = []\n",
        "\n",
        "points = [(4, 5), (-0, 2), (4, 7), (1, -3), (3, -2), (4, 5),\n",
        "          (3, 2), (5, 7), (-5, 7), (2, 2), (-4, 5), (0, -2),\n",
        "          (-4, 7), (-1, 3), (-3, 2), (-4, -5), (-3, 2),\n",
        "          (5, 7), (5, 7), (2, 2), (9, 9), (-8, -9)]\n",
        "\n",
        "points_list = list(points)\n",
        "\n",
        "for x, y in points_list:\n",
        "    if x >= 0 and y >= 0:\n",
        "        arrows_Q1.append((x,y))\n",
        "    elif x < 0 and y >= 0:\n",
        "        arrows_Q2.append((x,y)) \n",
        "    elif x < 0 and y < 0:\n",
        "        arrows_Q3.append((x,y))\n",
        "    elif x > 0 and y < 0:\n",
        "        arrows_Q4.append((x,y)) \n",
        "    \n",
        "  \n",
        "print('In the Q1 they fell: ', len(arrows_Q1), 'arrows!')\n",
        "print('In the Q2 they fell: ', len(arrows_Q2), 'arrows!')\n",
        "print('In the Q3 they fell: ', len(arrows_Q3), 'arrows!')\n",
        "print('In the Q4 they fell: ', len(arrows_Q4), 'arrows!')"
      ]
    },
    {
      "cell_type": "code",
      "source": [
        "#3. Find the point closest to the center. Calculate its distance to the center.\n",
        "\n",
        "from math import dist\n",
        "\n",
        "point_closer = []\n",
        "\n",
        "points = [(4, 5), (0, 2), (4, 7), (1, -3), (3, -2), (4, 5),\n",
        "          (3, 2), (5, 7), (-5, 7), (2, 2), (-4, 5), (0, -2),\n",
        "          (-4, 7), (-1, 3), (-3, 2), (-4, -5), (-3, 2),\n",
        "          (5, 7), (5, 7), (2, 2), (9, 9), (-8, -9)]\n",
        "\n",
        "\n",
        "for x, y in points:\n",
        "    if x <= 2 and x >= 2 or y <= 2 and y >= 2:\n",
        "        point_closer.append((x,y))\n",
        "\n",
        "\n",
        "point_closest = point_closer[0]\n",
        "\n",
        "point_central = (0, 0)\n",
        "\n",
        "print(dist(point_closest, point_central))\n",
        "\n"
      ],
      "metadata": {
        "colab": {
          "base_uri": "https://localhost:8080/"
        },
        "id": "3ru1J67m1SmT",
        "outputId": "77c796b8-ae65-4c6c-827b-b6e566a1f50d"
      },
      "execution_count": 38,
      "outputs": [
        {
          "output_type": "stream",
          "name": "stdout",
          "text": [
            "2.0\n"
          ]
        }
      ]
    },
    {
      "cell_type": "code",
      "source": [
        "#4. If the target has a radius of 9, calculate the number of arrows that must be picked up in the forest.(biblioteca ou elevar por 1/2)\n",
        "\n",
        "# zero \n"
      ],
      "metadata": {
        "id": "XdeTf1FcC5r3"
      },
      "execution_count": null,
      "outputs": []
    }
  ]
}